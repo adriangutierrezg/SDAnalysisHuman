{
 "cells": [
  {
   "cell_type": "code",
   "execution_count": 2,
   "id": "0c088eff",
   "metadata": {},
   "outputs": [
    {
     "name": "stdout",
     "output_type": "stream",
     "text": [
      "/media/Projects/Adrian/seizureProcessing\n"
     ]
    }
   ],
   "source": [
    "import os\n",
    "import matplotlib.pyplot as plt\n",
    "import numpy as np\n",
    "import glob\n",
    "import re\n",
    "import datetime as dt\n",
    "from scipy.io import loadmat\n",
    "import pandas as pd\n",
    "import matplotlib.colors as mcolors\n",
    "from matplotlib.colors import Normalize\n",
    "from matplotlib import gridspec\n",
    "from scipy.signal import spectrogram\n",
    "import scipy.stats as stats\n",
    "import seaborn as sns\n",
    "from scipy.io import loadmat, savemat\n",
    "\n",
    "%cd /media/Projects/Adrian/seizureProcessing/\n",
    "from seizureProcessing.utils.get_chnames import *\n",
    "from seizureProcessing.utils.get_directories import *\n",
    "from seizureProcessing.utils.readMatfile import *\n",
    "from seizureProcessing.utils.loadNCS import *"
   ]
  },
  {
   "cell_type": "code",
   "execution_count": 3,
   "id": "67fea18e",
   "metadata": {},
   "outputs": [],
   "source": [
    "dc_coupled = loadNCS('/home/adrian/Downloads/HybridInputCompensation_v1.0.0/Test_DCCoupled.ncs')\n",
    "nondc_coupled = loadNc"
   ]
  },
  {
   "cell_type": "code",
   "execution_count": 5,
   "id": "4d74bfaf",
   "metadata": {},
   "outputs": [
    {
     "data": {
      "text/plain": [
       "[\"b'######## Neuralynx Data File Header\",\n",
       " '-FileType NCS',\n",
       " '-FileVersion 3.4',\n",
       " '-FileUUID addb0c98-d5bc-475f-8cf3-d91835cf138d',\n",
       " '-SessionUUID a0209205-c91e-46d3-89bc-55d9b2d3d954',\n",
       " '-ProbeName ',\n",
       " '-OriginalFileName \"C:\\\\\\\\CheetahData\\\\\\\\2019-11-05_14-13-18\\\\\\\\CSC1.ncs\"',\n",
       " '-TimeCreated 2019/11/05 14:13:31',\n",
       " '-TimeClosed 2020/08/17 13:20:08',\n",
       " '-RecordSize 1044',\n",
       " '-ApplicationName Cheetah \"6.4.0 Development\"',\n",
       " '-AcquisitionSystem AcqSystem1 DigitalLynxSX',\n",
       " '-ReferenceChannel \"Source 01 Reference 1\"',\n",
       " '-SamplingFrequency 32000',\n",
       " '-ADMaxValue 32767',\n",
       " '-ADBitVolts 0.000000061035156250000001',\n",
       " '-AcqEntName CSC1',\n",
       " '-NumADChannels 1',\n",
       " '-ADChannel 0',\n",
       " '-InputRange 2000',\n",
       " '-InputInverted False',\n",
       " '-DSPLowCutFilterEnabled False',\n",
       " '-DspLowCutFrequency 0.1',\n",
       " '-DspLowCutNumTaps 0',\n",
       " '-DspLowCutFilterType DCO',\n",
       " '-DSPHighCutFilterEnabled False',\n",
       " '-DspHighCutFrequency 8000',\n",
       " '-DspHighCutNumTaps 256',\n",
       " '-DspHighCutFilterType FIR',\n",
       " '-DspDelayCompensation Enabled',\n",
       " '-DspFilterDelay_\\\\xb5s 0',\n",
       " \"'\"]"
      ]
     },
     "execution_count": 5,
     "metadata": {},
     "output_type": "execute_result"
    }
   ],
   "source": [
    "dc_coupled.header"
   ]
  },
  {
   "cell_type": "code",
   "execution_count": null,
   "id": "4a8e1d2d",
   "metadata": {},
   "outputs": [],
   "source": []
  }
 ],
 "metadata": {
  "kernelspec": {
   "display_name": "Python 3 (ipykernel)",
   "language": "python",
   "name": "python3"
  },
  "language_info": {
   "codemirror_mode": {
    "name": "ipython",
    "version": 3
   },
   "file_extension": ".py",
   "mimetype": "text/x-python",
   "name": "python",
   "nbconvert_exporter": "python",
   "pygments_lexer": "ipython3",
   "version": "3.8.10"
  }
 },
 "nbformat": 4,
 "nbformat_minor": 5
}
